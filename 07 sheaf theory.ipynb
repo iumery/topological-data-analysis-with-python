{
 "cells": [
  {
   "cell_type": "code",
   "execution_count": 1,
   "metadata": {},
   "outputs": [],
   "source": [
    "import numpy as np"
   ]
  },
  {
   "cell_type": "code",
   "execution_count": 12,
   "metadata": {},
   "outputs": [],
   "source": [
    "class sheaf_data:\n",
    "    def __init__(self, simplicial_complex):\n",
    "        \"\"\"\n",
    "        Initialize the sheaf with a given simplicial complex.\n",
    "        Args:\n",
    "            simplicial_complex (list of tuples): The simplicial complex, a collection of simplices.\n",
    "        \"\"\"\n",
    "        self.simplicial_complex = simplicial_complex  # The simplicial complex structure\n",
    "        self.data = {}  # Dictionary to store data assigned to simplices\n",
    "\n",
    "    def assign_data(self, simplex, local_data):\n",
    "        \"\"\"\n",
    "        Assign local data to a specific simplex.\n",
    "        Args:\n",
    "            simplex (tuple): A simplex (e.g., (1, 2)).\n",
    "            local_data (list): Data associated with this simplex.\n",
    "        \"\"\"\n",
    "        self.data[simplex] = local_data\n",
    "\n",
    "    def restriction_map(self, simplex1, simplex2):\n",
    "        \"\"\"\n",
    "        Restrict data from a higher-dimensional simplex (simplex1) to a lower-dimensional simplex (simplex2).\n",
    "        Args:\n",
    "            simplex1 (tuple): The source simplex (e.g., (1, 2, 3)).\n",
    "            simplex2 (tuple): The target simplex, a face of simplex1 (e.g., (1, 2)).\n",
    "        Returns:\n",
    "            dict or None: The restricted data if simplex2 is a face of simplex1, else None.\n",
    "        \"\"\"\n",
    "        if set(simplex2).issubset(set(simplex1)):  # Check if simplex2 is a face of simplex1\n",
    "            # Restrict data by projecting onto the shared vertices\n",
    "            restricted_data = {\n",
    "                vertex: self.data[simplex1][i]\n",
    "                for i, vertex in enumerate(simplex1)\n",
    "                if vertex in simplex2\n",
    "            }\n",
    "            return restricted_data\n",
    "        return None  # Return None if simplex2 is not a face of simplex1\n",
    "\n",
    "    def check_consistency(self):\n",
    "        \"\"\"\n",
    "        Check consistency of the sheaf by verifying if the restriction maps align with the assigned data.\n",
    "        Returns:\n",
    "            bool: True if the sheaf is consistent, False otherwise.\n",
    "        \"\"\"\n",
    "        for sup in self.simplicial_complex:  # Iterate over all simplices (sup: higher simplex)\n",
    "            for sub in self.simplicial_complex:  # Iterate over all simplices (sub: lower simplex)\n",
    "                if set(sub).issubset(set(sup)) and sup != sub:  # Check if sub is a face of sup\n",
    "                    # Restrict data from sup to sub\n",
    "                    restricted_data = self.restriction_map(sup, sub)\n",
    "                    if restricted_data:  # If restriction is valid\n",
    "                        # Construct sub's actual data for comparison\n",
    "                        sub_data = {\n",
    "                            vertex: self.data[sub][i]\n",
    "                            for i, vertex in enumerate(sub)\n",
    "                        }\n",
    "                        if restricted_data != sub_data:  # Check consistency\n",
    "                            return False  # Inconsistent if restriction does not match sub's data\n",
    "        return True  # Return True if all checks pass\n",
    "\n",
    "\n",
    "def construct_sheaf(simplicial_complex, local_data):\n",
    "    \"\"\"\n",
    "    Construct a sheaf by assigning local data to simplices in the simplicial complex.\n",
    "    Args:\n",
    "        simplicial_complex (list of tuples): The simplicial complex.\n",
    "        local_data (list of lists): The local data for each simplex.\n",
    "    Returns:\n",
    "        sheaf_data: The constructed sheaf.\n",
    "    \"\"\"\n",
    "    sheaf = sheaf_data(simplicial_complex)  # Initialize a sheaf\n",
    "    for simplex, data in zip(simplicial_complex, local_data):  # Assign data to each simplex\n",
    "        sheaf.assign_data(simplex, data)\n",
    "    return sheaf  # Return the constructed sheaf\n",
    "\n",
    "\n",
    "def find_global_section(sheaf):\n",
    "    \"\"\"\n",
    "    Find a global section of the sheaf if it is consistent.\n",
    "    Args:\n",
    "        sheaf (sheaf_data): The sheaf to evaluate.\n",
    "    Returns:\n",
    "        dict or str: The global section (data on all simplices) if consistent, else a message.\n",
    "    \"\"\"\n",
    "    if sheaf.check_consistency():  # Check if the sheaf is consistent\n",
    "        # Return the global section as a dictionary\n",
    "        return {k: v for k, v in sheaf.data.items()}\n",
    "    else:\n",
    "        return \"Inconsistency detected.\"  # Return an error message if inconsistent"
   ]
  },
  {
   "cell_type": "code",
   "execution_count": 13,
   "metadata": {},
   "outputs": [
    {
     "name": "stdout",
     "output_type": "stream",
     "text": [
      "{(1, 2): [10, 20], (2, 3): [20, 30], (1, 3): [10, 30], (1, 2, 3): [10, 20, 30]}\n"
     ]
    }
   ],
   "source": [
    "# Example Usage\n",
    "simplicial_complex = [\n",
    "    (1, 2),        # Edge (1, 2)\n",
    "    (2, 3),        # Edge (2, 3)\n",
    "    (1, 3),        # Edge (1, 3)\n",
    "    (1, 2, 3)      # Triangle (1, 2, 3)\n",
    "]\n",
    "local_data = [\n",
    "    [10, 20],       # Data on edge (1, 2)\n",
    "    [20, 30],       # Data on edge (2, 3)\n",
    "    [10, 30],       # Data on edge (1, 3)\n",
    "    [10, 20, 30]    # Data on triangle (1, 2, 3)\n",
    "]\n",
    "\n",
    "# Construct the sheaf\n",
    "example_sheaf = construct_sheaf(simplicial_complex, local_data)\n",
    "\n",
    "# Find the global section\n",
    "global_section = find_global_section(example_sheaf)\n",
    "\n",
    "# Print the global section or inconsistency message\n",
    "print(global_section)"
   ]
  },
  {
   "cell_type": "code",
   "execution_count": 14,
   "metadata": {},
   "outputs": [
    {
     "name": "stdout",
     "output_type": "stream",
     "text": [
      "Inconsistency detected.\n"
     ]
    }
   ],
   "source": [
    "# Example Usage\n",
    "simplicial_complex = [\n",
    "    (1, 2),        # Edge (1, 2)\n",
    "    (2, 3),        # Edge (2, 3)\n",
    "    (1, 3),        # Edge (1, 3)\n",
    "    (1, 2, 3)      # Triangle (1, 2, 3)\n",
    "]\n",
    "local_data = [\n",
    "    [10, 20],       # Data on edge (1, 2)\n",
    "    [20, -30],       # Data on edge (2, 3)\n",
    "    [10, 30],       # Data on edge (1, 3)\n",
    "    [10, 20, 30]    # Data on triangle (1, 2, 3)\n",
    "]\n",
    "\n",
    "# Construct the sheaf\n",
    "example_sheaf = construct_sheaf(simplicial_complex, local_data)\n",
    "\n",
    "# Find the global section\n",
    "global_section = find_global_section(example_sheaf)\n",
    "\n",
    "# Print the global section or inconsistency message\n",
    "print(global_section)"
   ]
  }
 ],
 "metadata": {
  "kernelspec": {
   "display_name": "Python 3",
   "language": "python",
   "name": "python3"
  },
  "language_info": {
   "codemirror_mode": {
    "name": "ipython",
    "version": 3
   },
   "file_extension": ".py",
   "mimetype": "text/x-python",
   "name": "python",
   "nbconvert_exporter": "python",
   "pygments_lexer": "ipython3",
   "version": "3.12.7"
  }
 },
 "nbformat": 4,
 "nbformat_minor": 2
}
