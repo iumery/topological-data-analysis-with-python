{
 "cells": [
  {
   "cell_type": "code",
   "execution_count": 1,
   "metadata": {},
   "outputs": [],
   "source": [
    "import itertools\n",
    "import numpy as np"
   ]
  },
  {
   "cell_type": "code",
   "execution_count": 2,
   "metadata": {},
   "outputs": [],
   "source": [
    "def is_simplex(vertices, subset):\n",
    "    return set(subset).issubset(vertices) and len(subset) > 0\n",
    "\n",
    "def construct_simplicial_complex(vertices):\n",
    "    simplicial_complex = []\n",
    "    for r in range(1, len(vertices) + 1):\n",
    "        for subset in itertools.combinations(vertices, r):\n",
    "            if is_simplex(vertices, subset):\n",
    "                simplicial_complex.append(list(subset))\n",
    "    return simplicial_complex\n",
    "\n",
    "def geometric_realization(simplex, dimension):\n",
    "    return np.random.rand(len(simplex), dimension)\n",
    "\n",
    "def combinatorial_optimization(simplicial_complex, objective_func):\n",
    "    optimal_value = np.inf\n",
    "    optimal_solution = None\n",
    "    for simplex in simplicial_complex:\n",
    "        value = objective_func(simplex)\n",
    "        if value < optimal_value:\n",
    "            optimal_value = value\n",
    "            optimal_solution = simplex\n",
    "    return optimal_solution, optimal_value\n",
    "\n",
    "def dummy_objective(simplex):\n",
    "    return len(simplex)\n",
    "\n",
    "vertices = [\"A\", \"B\", \"C\", \"D\"]\n",
    "simplicial_complex = construct_simplicial_complex(vertices)\n",
    "\n",
    "optimal_solution, optimal_value = combinatorial_optimization(simplicial_complex, dummy_objective)\n",
    "\n",
    "geometric = geometric_realization([\"A\", \"B\"], 2)"
   ]
  },
  {
   "cell_type": "code",
   "execution_count": 3,
   "metadata": {},
   "outputs": [
    {
     "data": {
      "text/plain": [
       "[['A'],\n",
       " ['B'],\n",
       " ['C'],\n",
       " ['D'],\n",
       " ['A', 'B'],\n",
       " ['A', 'C'],\n",
       " ['A', 'D'],\n",
       " ['B', 'C'],\n",
       " ['B', 'D'],\n",
       " ['C', 'D'],\n",
       " ['A', 'B', 'C'],\n",
       " ['A', 'B', 'D'],\n",
       " ['A', 'C', 'D'],\n",
       " ['B', 'C', 'D'],\n",
       " ['A', 'B', 'C', 'D']]"
      ]
     },
     "execution_count": 3,
     "metadata": {},
     "output_type": "execute_result"
    }
   ],
   "source": [
    "simplicial_complex"
   ]
  },
  {
   "cell_type": "code",
   "execution_count": 4,
   "metadata": {},
   "outputs": [
    {
     "data": {
      "text/plain": [
       "['A']"
      ]
     },
     "execution_count": 4,
     "metadata": {},
     "output_type": "execute_result"
    }
   ],
   "source": [
    "optimal_solution"
   ]
  },
  {
   "cell_type": "code",
   "execution_count": 5,
   "metadata": {},
   "outputs": [
    {
     "data": {
      "text/plain": [
       "1"
      ]
     },
     "execution_count": 5,
     "metadata": {},
     "output_type": "execute_result"
    }
   ],
   "source": [
    "optimal_value"
   ]
  },
  {
   "cell_type": "code",
   "execution_count": 6,
   "metadata": {},
   "outputs": [
    {
     "data": {
      "text/plain": [
       "array([[0.82180093, 0.24444423],\n",
       "       [0.52011335, 0.33820009]])"
      ]
     },
     "execution_count": 6,
     "metadata": {},
     "output_type": "execute_result"
    }
   ],
   "source": [
    "geometric"
   ]
  },
  {
   "cell_type": "code",
   "execution_count": null,
   "metadata": {},
   "outputs": [],
   "source": []
  }
 ],
 "metadata": {
  "kernelspec": {
   "display_name": "Python 3",
   "language": "python",
   "name": "python3"
  },
  "language_info": {
   "codemirror_mode": {
    "name": "ipython",
    "version": 3
   },
   "file_extension": ".py",
   "mimetype": "text/x-python",
   "name": "python",
   "nbconvert_exporter": "python",
   "pygments_lexer": "ipython3",
   "version": "3.13.0"
  }
 },
 "nbformat": 4,
 "nbformat_minor": 2
}
