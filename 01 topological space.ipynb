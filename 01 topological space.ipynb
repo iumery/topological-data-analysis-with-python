{
 "cells": [
  {
   "cell_type": "code",
   "execution_count": 1,
   "metadata": {},
   "outputs": [],
   "source": [
    "class TopologicalSpace:\n",
    "    def __init__(self, X, topology):\n",
    "        if not isinstance(X, set):\n",
    "            raise TypeError(\"X must be a set.\")\n",
    "        if not isinstance(topology, list):\n",
    "            raise TypeError(\"Topology must be a list.\")\n",
    "        if not all(isinstance(U, set) for U in topology):\n",
    "            raise TypeError(\"All elements of topology must be sets.\")\n",
    "            \n",
    "        self.X = X\n",
    "        self.topology = topology\n",
    "        assert self._validate_topology(), \"Invalid Topology\"\n",
    "\n",
    "    def _validate_topology(self):\n",
    "        # Check for empty set and the whole space\n",
    "        if set() not in self.topology or self.X not in self.topology:\n",
    "            return False\n",
    "\n",
    "        # Check closure under union and intersection\n",
    "        for U in self.topology:\n",
    "            for V in self.topology:\n",
    "                if U | V not in self.topology or U & V not in self.topology:\n",
    "                    return False\n",
    "        return True\n",
    "\n",
    "class ContinuousFunction:\n",
    "    def __init__(self, f, domain, codomain):\n",
    "        self.f = f\n",
    "        self.domain = domain\n",
    "        self.codomain = codomain\n",
    "\n",
    "    def is_continuous(self):\n",
    "        return all(self._preimage_is_open(V) for V in self.codomain.topology)\n",
    "\n",
    "    def _preimage_is_open(self, V):\n",
    "        # Calculate the preimage of V\n",
    "        preimage = {x for x in self.domain.X if self.f(x) in V}\n",
    "        return preimage in self.domain.topology\n",
    "\n",
    "class Homeomorphism:\n",
    "    def __init__(self, f, f_inv, space1, space2):\n",
    "        self.f = f\n",
    "        self.f_inv = f_inv\n",
    "        self.space1 = space1\n",
    "        self.space2 = space2\n",
    "    \n",
    "    def is_homeomorphism(self):\n",
    "        is_f_continuous = ContinuousFunction(self.f, self.space1, self.space2).is_continuous()\n",
    "        is_f_inv_continuous = ContinuousFunction(self.f_inv, self.space2, self.space1).is_continuous()\n",
    "        return is_f_continuous and is_f_inv_continuous"
   ]
  },
  {
   "cell_type": "code",
   "execution_count": 2,
   "metadata": {},
   "outputs": [],
   "source": [
    "X = {1, 2, 3}\n",
    "topology_X = [set(), {1}, {1, 2}, X]\n",
    "space_X = TopologicalSpace(X, topology_X)\n",
    "\n",
    "Y = {'a', 'b', 'c'}\n",
    "topology_Y = [set(), {'a'}, {'a', 'b'}, Y]\n",
    "space_Y = TopologicalSpace(Y, topology_Y)\n",
    "\n",
    "def f(x):\n",
    "    return {1: 'a', 2: 'b', 3: 'c'}[x]\n",
    "\n",
    "def f_inv(y):\n",
    "    return {'a': 1, 'b': 2, 'c': 3}[y]\n",
    "\n",
    "homeo = Homeomorphism(f, f_inv, space_X, space_Y)"
   ]
  },
  {
   "cell_type": "code",
   "execution_count": 3,
   "metadata": {},
   "outputs": [
    {
     "data": {
      "text/plain": [
       "True"
      ]
     },
     "execution_count": 3,
     "metadata": {},
     "output_type": "execute_result"
    }
   ],
   "source": [
    "homeo.is_homeomorphism()"
   ]
  }
 ],
 "metadata": {
  "kernelspec": {
   "display_name": "Python 3",
   "language": "python",
   "name": "python3"
  },
  "language_info": {
   "codemirror_mode": {
    "name": "ipython",
    "version": 3
   },
   "file_extension": ".py",
   "mimetype": "text/x-python",
   "name": "python",
   "nbconvert_exporter": "python",
   "pygments_lexer": "ipython3",
   "version": "3.13.0"
  }
 },
 "nbformat": 4,
 "nbformat_minor": 2
}
